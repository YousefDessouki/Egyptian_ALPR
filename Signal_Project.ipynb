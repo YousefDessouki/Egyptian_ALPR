{
  "cells": [
    {
      "cell_type": "code",
      "execution_count": null,
      "metadata": {
        "colab": {
          "base_uri": "https://localhost:8080/"
        },
        "collapsed": true,
        "id": "2r_qGj3fQ3bw",
        "outputId": "1b8243c7-395c-49d0-c070-b63f1ba297d8"
      },
      "outputs": [],
      "source": [
        "!pip install -r requirements.txt"
      ]
    },
    {
      "cell_type": "code",
      "execution_count": null,
      "metadata": {
        "colab": {
          "base_uri": "https://localhost:8080/"
        },
        "collapsed": true,
        "id": "RsQoIsA4RCf8",
        "outputId": "bae45e62-6d56-41b5-fe24-e88d15e76dd3"
      },
      "outputs": [],
      "source": [
        "!pip install roboflow\n",
        "\n",
        "from roboflow import Roboflow\n",
        "rf = Roboflow(api_key=\"j1hGwcjQkh3taS7YL3C8\")\n",
        "project = rf.workspace(\"signalproject\").project(\"milestone3-4glyw\")\n",
        "version = project.version(6)\n",
        "dataset = version.download(\"yolov8\")"
      ]
    },
    {
      "cell_type": "code",
      "execution_count": null,
      "metadata": {
        "colab": {
          "base_uri": "https://localhost:8080/",
          "height": 1000
        },
        "collapsed": true,
        "id": "3tjG80PFRusq",
        "outputId": "257a5005-2906-4a26-952b-10418300f723"
      },
      "outputs": [],
      "source": [
        "from ultralytics import YOLO\n",
        "\n",
        "# Load a model\n",
        "model = YOLO('yolov8n.pt')  # load a pretrained model (recommended for training)\n",
        "\n",
        "# Train the model\n",
        "results = model.train(data='/content/Milestone3-6/data.yaml', epochs=50, imgsz=512)"
      ]
    },
    {
      "cell_type": "code",
      "execution_count": null,
      "metadata": {
        "colab": {
          "base_uri": "https://localhost:8080/"
        },
        "id": "T9r1wM11R5C5",
        "outputId": "0bbff06b-0f55-419c-baad-3a811a5e880e"
      },
      "outputs": [],
      "source": [
        "import sys\n",
        "from ultralytics import YOLO\n",
        "\n",
        "# Load the model\n",
        "model = YOLO('/content/runs/detect/train/weights/best.pt')\n",
        "\n",
        "#Predict on an image\n",
        "result = model.predict('/content/1.jpg', save=True, conf=0.1, hide_conf=True, agnostic_nms=True)"
      ]
    },
    {
      "cell_type": "code",
      "execution_count": null,
      "metadata": {
        "colab": {
          "base_uri": "https://localhost:8080/"
        },
        "id": "grniOj1bRe-c",
        "outputId": "5b49e874-8fdc-49e9-a8dc-21784084c113"
      },
      "outputs": [],
      "source": [
        "!pip install ultralytics\n",
        "import ultralytics\n",
        "ultralytics.checks()"
      ]
    },
    {
      "cell_type": "code",
      "execution_count": null,
      "metadata": {
        "id": "Wy5u8oCWTlex"
      },
      "outputs": [],
      "source": [
        "import locale\n",
        "locale.getpreferredencoding = lambda: \"UTF-8\""
      ]
    },
    {
      "cell_type": "code",
      "execution_count": null,
      "metadata": {
        "id": "Okn17dTxsReR"
      },
      "outputs": [],
      "source": []
    },
    {
      "cell_type": "code",
      "execution_count": null,
      "metadata": {
        "colab": {
          "base_uri": "https://localhost:8080/"
        },
        "collapsed": true,
        "id": "GymBGbJ_SF4v",
        "outputId": "e2340b45-cb1b-45de-cb37-b9fe8274e963"
      },
      "outputs": [],
      "source": [
        "!pip install roboflow\n",
        "from roboflow import Roboflow\n",
        "rf = Roboflow(api_key=\"J931xHdL95fBvr5e446M\")\n",
        "project = rf.workspace(\"smart-ad-ezzae\").project(\"plate-detect-oydq2\")\n",
        "version = project.version(1)\n",
        "dataset = version.download(\"yolov8\")"
      ]
    },
    {
      "cell_type": "code",
      "execution_count": null,
      "metadata": {
        "colab": {
          "base_uri": "https://localhost:8080/"
        },
        "collapsed": true,
        "id": "2B4QPbpXTshL",
        "outputId": "30ca28fe-81e7-46ad-b6c7-42327755876a"
      },
      "outputs": [],
      "source": [
        "from ultralytics import YOLO\n",
        "\n",
        "# Load a model\n",
        "model = YOLO('yolov8n.pt')  # load a pretrained model (recommended for training)\n",
        "\n",
        "# Train the model\n",
        "results = model.train(data='/content/plate-detect-1/data.yaml', epochs=50, imgsz=512)"
      ]
    },
    {
      "cell_type": "code",
      "execution_count": null,
      "metadata": {
        "colab": {
          "base_uri": "https://localhost:8080/"
        },
        "id": "7t8co_zxbeIs",
        "outputId": "c8641662-59c5-48f9-c50a-47c5bb31fe9e"
      },
      "outputs": [],
      "source": [
        "model = YOLO('/content/runs/detect/train/weights/best.pt')\n",
        "\n",
        "result = model.predict('/content/2.jpeg', save=True, conf=0.1, agnostic_nms=True)\n"
      ]
    },
    {
      "cell_type": "code",
      "execution_count": null,
      "metadata": {
        "colab": {
          "base_uri": "https://localhost:8080/"
        },
        "id": "cr-IwfhsYWug",
        "outputId": "b7735f0d-0d32-41b4-fc04-784babdeb365"
      },
      "outputs": [],
      "source": [
        "import sys\n",
        "from ultralytics import YOLO\n",
        "\n",
        "# Load the model\n",
        "model = YOLO('/content/best-2.pt')\n",
        "\n",
        "# Predict on an image\n",
        "result = model.predict('/content/2.png', save=True, conf=0.1, hide_conf=True, agnostic_nms=True)"
      ]
    },
    {
      "cell_type": "code",
      "execution_count": null,
      "metadata": {
        "colab": {
          "base_uri": "https://localhost:8080/"
        },
        "collapsed": true,
        "id": "GP46cEiwYjr5",
        "outputId": "60ee2181-552d-481d-f008-aa0a306c0c3a"
      },
      "outputs": [],
      "source": [
        "!pip install pandas ultralytics"
      ]
    },
    {
      "cell_type": "code",
      "execution_count": null,
      "metadata": {
        "colab": {
          "base_uri": "https://localhost:8080/"
        },
        "id": "p47eWCExYpKw",
        "outputId": "b82dee4f-5314-439f-c0a1-f6d1197cb96b"
      },
      "outputs": [],
      "source": [
        "# Extract bounding boxes from the results\n",
        "bounding_box_coordinates = []\n",
        "for resul in result:\n",
        "    for box in resul.boxes:\n",
        "        x_min, y_min, x_max, y_max = box.xyxy[0].tolist()  # Get bounding box coordinates\n",
        "        bounding_box_coordinates.append([x_min, y_min, x_max, y_max])\n",
        "\n",
        "# Print the bounding box coordinates\n",
        "for coord in bounding_box_coordinates:\n",
        "    print(f\"Bounding box coordinates: {coord}\")"
      ]
    },
    {
      "cell_type": "code",
      "execution_count": null,
      "metadata": {
        "colab": {
          "base_uri": "https://localhost:8080/"
        },
        "id": "JXiTAXGsY8gn",
        "outputId": "f6dd0d7b-c440-4d37-848a-4ce9827aa38f"
      },
      "outputs": [],
      "source": [
        "import cv2\n",
        "import os\n",
        "\n",
        "def extract_images(image_path, bounding_boxes_array):\n",
        "    \"\"\"\n",
        "    Extract images based on the bounding box coordinates.\n",
        "\n",
        "    Args:\n",
        "    image_path (str): Path to the original image.\n",
        "    bounding_boxes_array (numpy.ndarray): 2D array of bounding box coordinates where each row represents a bounding box in the format [x_min, y_min, x_max, y_max].\n",
        "\n",
        "    Returns:\n",
        "    None\n",
        "    \"\"\"\n",
        "    # Load the original image\n",
        "    image = cv2.imread(image_path)\n",
        "    if image is None:\n",
        "        print(f\"Error: Image at {image_path} could not be loaded.\")\n",
        "        return\n",
        "\n",
        "    # Create a directory to save cropped images\n",
        "    output_dir = os.path.splitext(image_path)[0] + \"_cropped\"\n",
        "    os.makedirs(output_dir, exist_ok=True)\n",
        "\n",
        "    # Iterate over each bounding box\n",
        "    for i, box in enumerate(bounding_boxes_array):\n",
        "        # Extract bounding box coordinates\n",
        "        x_min = int(box[0])\n",
        "        y_min = int(box[1])\n",
        "        x_max = int(box[2])\n",
        "        y_max = int(box[3])\n",
        "\n",
        "        # Crop the region of interest from the original image\n",
        "        cropped_image = image[y_min:y_max, x_min:x_max]\n",
        "\n",
        "        # Save the cropped image\n",
        "        output_path = os.path.join(output_dir, f\"box_{i + 1}.jpg\")\n",
        "        cv2.imwrite(output_path, cropped_image)\n",
        "        print(f\"Box {i + 1} saved to {output_path}\")\n",
        "\n",
        "# Example usage\n",
        "image_path = '/content/runs/detect/predict4/2.png'  # Replace with your image path\n",
        "extract_images(image_path, bounding_box_coordinates)\n"
      ]
    },
    {
      "cell_type": "code",
      "execution_count": null,
      "metadata": {
        "colab": {
          "base_uri": "https://localhost:8080/"
        },
        "id": "OrS6PJZJZCBN",
        "outputId": "640182fb-3f41-440d-8d24-17032680f3db"
      },
      "outputs": [],
      "source": [
        "model = YOLO('/content/runs/detect/train/weights/best.pt')\n",
        "\n",
        "result = model.predict('/content/runs/detect/predict4/2_cropped/box_1.jpg', save=True, conf=0.1, agnostic_nms=True, hide_conf= False, save_txt= True)\n"
      ]
    },
    {
      "cell_type": "code",
      "execution_count": null,
      "metadata": {
        "colab": {
          "base_uri": "https://localhost:8080/"
        },
        "id": "41vrWG3yumqp",
        "outputId": "09fd76c1-389f-4725-e786-b473ca8d0121"
      },
      "outputs": [],
      "source": [
        "model = YOLO('/content/runs/detect/train/weights/best.pt')\n",
        "\n",
        "result = model.predict('/content/runs/detect/predict4/2_cropped/box_2.jpg', save=True, conf=0.1, agnostic_nms=True, hide_conf= False)\n"
      ]
    },
    {
      "cell_type": "code",
      "execution_count": null,
      "metadata": {
        "id": "KCeYIYaRZJol"
      },
      "outputs": [],
      "source": [
        "import cv2\n",
        "\n",
        "# Read the two images\n",
        "image1 = cv2.imread('/content/2.png')\n",
        "\n",
        "image2_list = [cv2.imread('/content/runs/detect/predict8/box_1.jpg'), cv2.imread('/content/runs/detect/predict9/box_2.jpg')]\n",
        "\n",
        "# Resize each image in image2_list to the same size as the region in image1 where it will be placed\n",
        "for i, image2 in enumerate(image2_list):\n",
        "    region_height, region_width, _ = image1[int(bounding_box_coordinates[i][1]):int(bounding_box_coordinates[i][3]), int(bounding_box_coordinates[i][0]):int(bounding_box_coordinates[i][2])].shape\n",
        "    image2_list[i] = cv2.resize(image2, (region_width, region_height))\n",
        "\n",
        "# Iterate over each bounding box\n",
        "for i, bbox in enumerate(bounding_box_coordinates):\n",
        "    # Extract the coordinates of the bounding box\n",
        "    x_min, y_min, x_max, y_max = bbox\n",
        "\n",
        "    # Place image2 onto image1 at the specified coordinates\n",
        "    image1[int(y_min):int(y_max), int(x_min):int(x_max)] = image2_list[i]\n",
        "\n",
        "image1 = cv2.cvtColor(image1, cv2.COLOR_BGR2RGB)"
      ]
    },
    {
      "cell_type": "code",
      "execution_count": null,
      "metadata": {
        "colab": {
          "base_uri": "https://localhost:8080/",
          "height": 261
        },
        "id": "tOaSrIFKwOKZ",
        "outputId": "44b683b2-26c1-4f9c-b4a9-b8ea6e6137a9"
      },
      "outputs": [],
      "source": [
        "import matplotlib.pyplot as plt\n",
        "plt.imshow(image1)\n",
        "plt.show()"
      ]
    }
  ],
  "metadata": {
    "accelerator": "GPU",
    "colab": {
      "gpuType": "T4",
      "provenance": []
    },
    "kernelspec": {
      "display_name": "Python 3",
      "name": "python3"
    },
    "language_info": {
      "name": "python"
    }
  },
  "nbformat": 4,
  "nbformat_minor": 0
}
